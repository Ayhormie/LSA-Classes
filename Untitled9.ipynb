{
 "cells": [
  {
   "cell_type": "code",
   "execution_count": null,
   "metadata": {},
   "outputs": [],
   "source": [
    "def addition(a,b):\n",
    "    print(a+b)\n",
    "def subtract(a,b):\n",
    "    print(a-b)\n",
    "def multiply(a,b):\n",
    "    print(a*b)\n",
    "def divide(a,b):\n",
    "    print(a/b)\n",
    "def exponent(a,b):\n",
    "    print(a**b)\n",
    "def modulus(a,b):\n",
    "    print(a%b)\n",
    "def floor division(a,b):\n",
    "    print(a//b)\n",
    "\n",
    "\n",
    "\n",
    "\n",
    "num1=int(input('Enter first num'))\n",
    "num2=int(input('Enter second num'))\n",
    "operation=input('Enter operation')\n",
    "print'''Select an operation\n",
    "1. addition\n",
    "2. subtraction\n",
    "3. multiplication\n",
    "4. division\n",
    "5. exponent\n",
    "6. modulus\n",
    "7. floor division'''\n",
    "if operation=='1':\n",
    "    print(num1, '+', num2), add(num1, num2)\n",
    "\n",
    "    "
   ]
  },
  {
   "cell_type": "code",
   "execution_count": null,
   "metadata": {},
   "outputs": [],
   "source": [
    "def divide(a,b):\n",
    "    return a/b"
   ]
  },
  {
   "cell_type": "code",
   "execution_count": null,
   "metadata": {},
   "outputs": [],
   "source": [
    "divide():"
   ]
  },
  {
   "cell_type": "code",
   "execution_count": null,
   "metadata": {},
   "outputs": [],
   "source": [
    "num1=int(input('Enter first num'))\n",
    "num2=int(input('Enter second num'))"
   ]
  },
  {
   "cell_type": "code",
   "execution_count": null,
   "metadata": {},
   "outputs": [],
   "source": []
  }
 ],
 "metadata": {
  "kernelspec": {
   "display_name": "Python 3",
   "language": "python",
   "name": "python3"
  },
  "language_info": {
   "codemirror_mode": {
    "name": "ipython",
    "version": 3
   },
   "file_extension": ".py",
   "mimetype": "text/x-python",
   "name": "python",
   "nbconvert_exporter": "python",
   "pygments_lexer": "ipython3",
   "version": "3.7.6"
  }
 },
 "nbformat": 4,
 "nbformat_minor": 4
}
