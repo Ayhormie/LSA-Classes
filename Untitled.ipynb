{
 "cells": [
  {
   "cell_type": "markdown",
   "metadata": {},
   "source": [
    "Composition about myself \n",
    "I am Ogunkanmi Michael. I am from Osun state, I hail from a family of 5, I am simple, sweet, confident.\n",
    "I am the eldest of my of my two siblings. I am a student of Ladoke Akintola University of Technology,studying Computer Science, also in 300lvl.\n",
    "All essential humane qualities like sincerity, dedication, truth and honesty I do experience practically at my home.\n",
    "I am avidly addicted to playing console games, likewise reading some motivational books.\n",
    "My favorite food are Egg sauce and plantain ( I can eat a bunch of plantain and a crate of egg)\n",
    "I am a very enthusiaistic being and I think this is a strong point of mine. Meeting new people who supports all my eforts to grow gives me a lot of energy.\n",
    "The goal I am currently striving to learn Aritificial Intelligence and Machine Learning is to make this world a better place to live in.\n",
    "In the field of artificial intelligence, the possibilities are truly endless and it is adding a lot of values to the current process and also providing a thoughtful path for individuals to move forward.\n"
   ]
  }
 ],
 "metadata": {
  "kernelspec": {
   "display_name": "Python 3",
   "language": "python",
   "name": "python3"
  },
  "language_info": {
   "codemirror_mode": {
    "name": "ipython",
    "version": 3
   },
   "file_extension": ".py",
   "mimetype": "text/x-python",
   "name": "python",
   "nbconvert_exporter": "python",
   "pygments_lexer": "ipython3",
   "version": "3.7.6"
  }
 },
 "nbformat": 4,
 "nbformat_minor": 4
}
