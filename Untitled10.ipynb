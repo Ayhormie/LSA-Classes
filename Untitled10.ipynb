{
 "cells": [
  {
   "cell_type": "code",
   "execution_count": 6,
   "metadata": {},
   "outputs": [
    {
     "name": "stdout",
     "output_type": "stream",
     "text": [
      "Enter first num6\n",
      "Enter second num5\n"
     ]
    }
   ],
   "source": [
    "#Program to make a calculatorS\n",
    "num1=int(input('Enter first num '))\n",
    "num2=int(input('Enter second num '))"
   ]
  },
  {
   "cell_type": "code",
   "execution_count": 21,
   "metadata": {},
   "outputs": [
    {
     "name": "stdout",
     "output_type": "stream",
     "text": [
      "Enter operation 7\n",
      "1\n",
      "6 // 5 = None\n"
     ]
    }
   ],
   "source": [
    "def divide(a,b):\n",
    "    print(a/b)\n",
    "def addition(a,b):\n",
    "    print(a+b)\n",
    "def subtract(a,b):\n",
    "    print(a-b)\n",
    "def multiply(a,b):\n",
    "    print(a*b)\n",
    "def exponent(a,b):\n",
    "    print(a**b)\n",
    "def modulus(a,b):\n",
    "    print(a%b)\n",
    "operation=input('Enter operation ')\n",
    "'''Select an operation\n",
    "1.addition\n",
    "2.subtraction\n",
    "3.multiplication\n",
    "4.division\n",
    "5.exponent\n",
    "6.modulus\n",
    "7.floor division'''\n",
    "if operation== '1':\n",
    "    print(num1, '+', num2, '=', addition(num1, num2))\n",
    "    \n",
    "elif operation== '2':\n",
    "     print(num1, '-', num2, '=', subtract(num1, num2))\n",
    "        \n",
    "elif operation=='3':\n",
    "     print(num1, '*', num2, '=', multiply(num1, num2))\n",
    "        \n",
    "elif operation=='4':\n",
    "     print(num1, '/', num2, '=', divide(num1, num2))\n",
    "        \n",
    "elif operation=='5':\n",
    "     print(num1, '**', num2, '=', exponent(num1, num2))\n",
    "        \n",
    "elif operation=='6':\n",
    "     print(num1, '%', num2, '=', modulus(num1, num2))\n",
    "        \n",
    "elif operation=='7':\n",
    "     print(num1, '//', num2, '=', floor_div(num1, num2))\n",
    "\n",
    "    \n"
   ]
  },
  {
   "cell_type": "code",
   "execution_count": 23,
   "metadata": {},
   "outputs": [
    {
     "name": "stdout",
     "output_type": "stream",
     "text": [
      "1\n"
     ]
    }
   ],
   "source": [
    "floor_div(num1, num2)\n"
   ]
  },
  {
   "cell_type": "code",
   "execution_count": 20,
   "metadata": {},
   "outputs": [
    {
     "name": "stdout",
     "output_type": "stream",
     "text": [
      "1\n"
     ]
    }
   ],
   "source": []
  },
  {
   "cell_type": "code",
   "execution_count": null,
   "metadata": {},
   "outputs": [],
   "source": []
  }
 ],
 "metadata": {
  "kernelspec": {
   "display_name": "Python 3",
   "language": "python",
   "name": "python3"
  },
  "language_info": {
   "codemirror_mode": {
    "name": "ipython",
    "version": 3
   },
   "file_extension": ".py",
   "mimetype": "text/x-python",
   "name": "python",
   "nbconvert_exporter": "python",
   "pygments_lexer": "ipython3",
   "version": "3.7.6"
  }
 },
 "nbformat": 4,
 "nbformat_minor": 4
}
